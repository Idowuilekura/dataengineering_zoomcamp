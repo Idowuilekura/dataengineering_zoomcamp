{
 "cells": [
  {
   "cell_type": "code",
   "execution_count": 2,
   "id": "d22f1613-a060-43f7-b740-2664a99d9f0a",
   "metadata": {},
   "outputs": [
    {
     "name": "stdout",
     "output_type": "stream",
     "text": [
      "23/03/03 03:02:02 WARN FileSystem: Cannot load filesystem: java.util.ServiceConfigurationError: org.apache.hadoop.fs.FileSystem: com.google.cloud.hadoop.fs.gcs.GoogleHadoopFileSystem Unable to get public no-arg constructor\n",
      "23/03/03 03:02:02 WARN FileSystem: java.lang.NoClassDefFoundError: com/google/api/client/http/HttpRequestInitializer\n",
      "23/03/03 03:02:02 WARN FileSystem: java.lang.ClassNotFoundException: com.google.api.client.http.HttpRequestInitializer\n"
     ]
    }
   ],
   "source": [
    "import pyspark \n",
    "from pyspark.sql import SparkSession\n",
    "import findspark\n",
    "findspark.init()\n",
    "\n",
    "spark_session = SparkSession.builder.master(\"local[*]\").appName('spark_sql').getOrCreate()"
   ]
  },
  {
   "cell_type": "code",
   "execution_count": 3,
   "id": "657ebb4d-0e19-474b-be05-e9af2a185f42",
   "metadata": {},
   "outputs": [
    {
     "ename": "AnalysisException",
     "evalue": "Path does not exist: file:/home/idowuilekura/Desktop/dataengineering_zoomcamp/week_five/data/pq/green/*/*",
     "output_type": "error",
     "traceback": [
      "\u001b[0;31m---------------------------------------------------------------------------\u001b[0m",
      "\u001b[0;31mAnalysisException\u001b[0m                         Traceback (most recent call last)",
      "\u001b[0;32m/tmp/ipykernel_92537/3135728678.py\u001b[0m in \u001b[0;36m<module>\u001b[0;34m\u001b[0m\n\u001b[0;32m----> 1\u001b[0;31m \u001b[0mdf_green\u001b[0m \u001b[0;34m=\u001b[0m \u001b[0mspark_session\u001b[0m\u001b[0;34m.\u001b[0m\u001b[0mread\u001b[0m\u001b[0;34m.\u001b[0m\u001b[0mparquet\u001b[0m\u001b[0;34m(\u001b[0m\u001b[0;34m\"data/pq/green/*/*\"\u001b[0m\u001b[0;34m)\u001b[0m\u001b[0;34m\u001b[0m\u001b[0;34m\u001b[0m\u001b[0m\n\u001b[0m",
      "\u001b[0;32m~/spark/spark-3.3.2-bin-hadoop3/python/pyspark/sql/readwriter.py\u001b[0m in \u001b[0;36mparquet\u001b[0;34m(self, *paths, **options)\u001b[0m\n\u001b[1;32m    362\u001b[0m         )\n\u001b[1;32m    363\u001b[0m \u001b[0;34m\u001b[0m\u001b[0m\n\u001b[0;32m--> 364\u001b[0;31m         \u001b[0;32mreturn\u001b[0m \u001b[0mself\u001b[0m\u001b[0;34m.\u001b[0m\u001b[0m_df\u001b[0m\u001b[0;34m(\u001b[0m\u001b[0mself\u001b[0m\u001b[0;34m.\u001b[0m\u001b[0m_jreader\u001b[0m\u001b[0;34m.\u001b[0m\u001b[0mparquet\u001b[0m\u001b[0;34m(\u001b[0m\u001b[0m_to_seq\u001b[0m\u001b[0;34m(\u001b[0m\u001b[0mself\u001b[0m\u001b[0;34m.\u001b[0m\u001b[0m_spark\u001b[0m\u001b[0;34m.\u001b[0m\u001b[0m_sc\u001b[0m\u001b[0;34m,\u001b[0m \u001b[0mpaths\u001b[0m\u001b[0;34m)\u001b[0m\u001b[0;34m)\u001b[0m\u001b[0;34m)\u001b[0m\u001b[0;34m\u001b[0m\u001b[0;34m\u001b[0m\u001b[0m\n\u001b[0m\u001b[1;32m    365\u001b[0m \u001b[0;34m\u001b[0m\u001b[0m\n\u001b[1;32m    366\u001b[0m     def text(\n",
      "\u001b[0;32m~/spark/spark-3.3.2-bin-hadoop3/python/lib/py4j-0.10.9.5-src.zip/py4j/java_gateway.py\u001b[0m in \u001b[0;36m__call__\u001b[0;34m(self, *args)\u001b[0m\n\u001b[1;32m   1319\u001b[0m \u001b[0;34m\u001b[0m\u001b[0m\n\u001b[1;32m   1320\u001b[0m         \u001b[0manswer\u001b[0m \u001b[0;34m=\u001b[0m \u001b[0mself\u001b[0m\u001b[0;34m.\u001b[0m\u001b[0mgateway_client\u001b[0m\u001b[0;34m.\u001b[0m\u001b[0msend_command\u001b[0m\u001b[0;34m(\u001b[0m\u001b[0mcommand\u001b[0m\u001b[0;34m)\u001b[0m\u001b[0;34m\u001b[0m\u001b[0;34m\u001b[0m\u001b[0m\n\u001b[0;32m-> 1321\u001b[0;31m         return_value = get_return_value(\n\u001b[0m\u001b[1;32m   1322\u001b[0m             answer, self.gateway_client, self.target_id, self.name)\n\u001b[1;32m   1323\u001b[0m \u001b[0;34m\u001b[0m\u001b[0m\n",
      "\u001b[0;32m~/spark/spark-3.3.2-bin-hadoop3/python/pyspark/sql/utils.py\u001b[0m in \u001b[0;36mdeco\u001b[0;34m(*a, **kw)\u001b[0m\n\u001b[1;32m    194\u001b[0m                 \u001b[0;31m# Hide where the exception came from that shows a non-Pythonic\u001b[0m\u001b[0;34m\u001b[0m\u001b[0;34m\u001b[0m\u001b[0m\n\u001b[1;32m    195\u001b[0m                 \u001b[0;31m# JVM exception message.\u001b[0m\u001b[0;34m\u001b[0m\u001b[0;34m\u001b[0m\u001b[0m\n\u001b[0;32m--> 196\u001b[0;31m                 \u001b[0;32mraise\u001b[0m \u001b[0mconverted\u001b[0m \u001b[0;32mfrom\u001b[0m \u001b[0;32mNone\u001b[0m\u001b[0;34m\u001b[0m\u001b[0;34m\u001b[0m\u001b[0m\n\u001b[0m\u001b[1;32m    197\u001b[0m             \u001b[0;32melse\u001b[0m\u001b[0;34m:\u001b[0m\u001b[0;34m\u001b[0m\u001b[0;34m\u001b[0m\u001b[0m\n\u001b[1;32m    198\u001b[0m                 \u001b[0;32mraise\u001b[0m\u001b[0;34m\u001b[0m\u001b[0;34m\u001b[0m\u001b[0m\n",
      "\u001b[0;31mAnalysisException\u001b[0m: Path does not exist: file:/home/idowuilekura/Desktop/dataengineering_zoomcamp/week_five/data/pq/green/*/*"
     ]
    }
   ],
   "source": [
    "df_green = spark_session.read.parquet(\"data/pq/green/*/*\")"
   ]
  },
  {
   "cell_type": "code",
   "execution_count": 4,
   "id": "cc257c96-46e9-432e-a7c4-bda34cf9a304",
   "metadata": {
    "collapsed": true,
    "jupyter": {
     "outputs_hidden": true
    },
    "tags": []
   },
   "outputs": [
    {
     "name": "stdout",
     "output_type": "stream",
     "text": [
      "+--------+--------------------+---------------------+------------------+----------+------------+------------+---------------+-------------+-----------+-----+-------+----------+------------+---------+---------------------+------------+------------+---------+--------------------+\n",
      "|VendorID|lpep_pickup_datetime|lpep_dropoff_datetime|store_and_fwd_flag|RatecodeID|PULocationID|DOLocationID|passenger_count|trip_distance|fare_amount|extra|mta_tax|tip_amount|tolls_amount|ehail_fee|improvement_surcharge|total_amount|payment_type|trip_type|congestion_surcharge|\n",
      "+--------+--------------------+---------------------+------------------+----------+------------+------------+---------------+-------------+-----------+-----+-------+----------+------------+---------+---------------------+------------+------------+---------+--------------------+\n",
      "|       1| 2020-01-24 22:00:56|  2020-01-24 22:06:12|                 N|         1|          95|         196|              1|         null|        6.0|  0.5|    0.5|       0.0|         0.0|     null|                  0.3|         7.3|           2|        1|                 0.0|\n",
      "|    null| 2020-01-16 14:46:00|  2020-01-16 15:01:00|              null|      null|         130|          10|           null|         null|      21.57| 2.75|    0.0|       0.0|         0.0|     null|                  0.3|       24.62|        null|     null|                null|\n",
      "|       2| 2020-01-13 07:58:32|  2020-01-13 08:26:00|                 N|         1|         166|         142|              1|         null|       18.0|  0.0|    0.5|       0.0|         0.0|     null|                  0.3|       21.55|           2|        1|                2.75|\n",
      "|    null| 2020-01-09 12:57:00|  2020-01-09 13:13:00|              null|      null|          97|         256|           null|         null|       9.44|  0.0|    0.0|       0.0|         0.0|     null|                  0.3|        9.74|        null|     null|                null|\n",
      "|       1| 2020-01-08 13:45:35|  2020-01-08 13:50:37|                 N|         1|         116|         116|              2|         null|        5.0|  0.0|    0.5|       0.0|         0.0|     null|                  0.3|         5.8|           2|        1|                 0.0|\n",
      "|       2| 2020-01-05 11:25:46|  2020-01-05 11:32:13|                 N|         1|          25|          52|              1|         null|        7.0|  0.0|    0.5|      1.56|         0.0|     null|                  0.3|        9.36|           1|        1|                 0.0|\n",
      "|       1| 2020-01-24 08:38:07|  2020-01-24 08:45:33|                 N|         1|          42|          74|              1|         null|        7.0|  0.0|    0.5|       2.0|         0.0|     null|                  0.3|         9.8|           1|        1|                 0.0|\n",
      "|    null| 2020-01-26 11:26:00|  2020-01-26 11:26:00|              null|      null|          41|          41|           null|         null|      14.65| 2.75|    0.0|       0.0|         0.0|     null|                  0.3|        17.7|        null|     null|                null|\n",
      "|       2| 2020-01-16 09:46:53|  2020-01-17 09:39:53|                 N|         1|         226|         157|              1|         null|       20.0|  0.0|    0.5|       0.0|         0.0|     null|                  0.3|        20.8|           2|        1|                 0.0|\n",
      "|       2| 2020-01-28 18:37:13|  2020-01-28 18:52:42|                 N|         1|          97|         228|              1|         null|       12.0|  1.0|    0.5|       2.5|         0.0|     null|                  0.3|        16.3|           1|        1|                 0.0|\n",
      "|       2| 2020-01-13 14:23:49|  2020-01-13 14:30:11|                 N|         1|           7|         146|              1|         null|        6.0|  0.0|    0.5|       0.0|         0.0|     null|                  0.3|         6.8|           2|        1|                 0.0|\n",
      "|    null| 2020-01-12 12:08:00|  2020-01-12 12:21:00|              null|      null|          91|          85|           null|         null|      17.74| 2.75|    0.5|       0.0|         0.0|     null|                  0.0|       20.99|        null|     null|                null|\n",
      "|    null| 2020-01-04 09:57:00|  2020-01-04 10:14:00|              null|      null|          39|          39|           null|         null|      14.93| 2.75|    0.5|       0.0|         0.0|     null|                  0.3|       18.48|        null|     null|                null|\n",
      "|       2| 2020-01-05 01:13:49|  2020-01-05 01:22:46|                 N|         1|         169|          78|              1|         null|        8.0|  0.5|    0.5|      1.86|         0.0|     null|                  0.3|       13.11|           1|        1|                 0.0|\n",
      "|       2| 2020-01-31 12:35:00|  2020-01-31 12:55:24|                 N|         1|          66|          97|              3|         null|       15.0|  0.0|    0.5|      3.16|         0.0|     null|                  0.3|       18.96|           1|        1|                 0.0|\n",
      "|       2| 2020-01-25 01:30:57|  2020-01-25 01:36:06|                 N|         1|         255|         112|              1|         null|        6.0|  0.5|    0.5|       2.0|         0.0|     null|                  0.3|         9.3|           1|        1|                 0.0|\n",
      "|       2| 2020-01-21 09:50:39|  2020-01-21 09:56:33|                 N|         1|          33|          66|              1|         null|        5.5|  0.0|    0.5|      1.26|         0.0|     null|                  0.3|        7.56|           1|        1|                 0.0|\n",
      "|       2| 2020-01-13 22:29:22|  2020-01-13 22:39:07|                 N|         1|         244|          42|              2|         null|        9.5|  0.5|    0.5|       0.0|         0.0|     null|                  0.3|        10.8|           2|        1|                 0.0|\n",
      "|       2| 2020-01-02 06:55:53|  2020-01-02 06:58:23|                 N|         1|          42|          42|              1|         null|        4.0|  0.0|    0.5|       0.0|         0.0|     null|                  0.3|         4.8|           2|        1|                 0.0|\n",
      "|       2| 2020-01-08 17:20:25|  2020-01-08 17:23:23|                 N|         1|          41|          41|              1|         null|        4.0|  1.0|    0.5|       0.0|         0.0|     null|                  0.3|         5.8|           2|        1|                 0.0|\n",
      "+--------+--------------------+---------------------+------------------+----------+------------+------------+---------------+-------------+-----------+-----+-------+----------+------------+---------+---------------------+------------+------------+---------+--------------------+\n",
      "only showing top 20 rows\n",
      "\n"
     ]
    }
   ],
   "source": [
    "df_green.show()"
   ]
  },
  {
   "cell_type": "code",
   "execution_count": 5,
   "id": "9dcdde55-f8d8-4431-a7ad-b8e67b2689b7",
   "metadata": {},
   "outputs": [],
   "source": [
    "df_yellow = spark_session.read.parquet(\"data/pq/yellow/*/*\")"
   ]
  },
  {
   "cell_type": "code",
   "execution_count": 6,
   "id": "ad447d94-2f4c-40bd-849a-34aabb1fd964",
   "metadata": {},
   "outputs": [
    {
     "data": {
      "text/plain": [
       "['VendorID',\n",
       " 'lpep_pickup_datetime',\n",
       " 'lpep_dropoff_datetime',\n",
       " 'store_and_fwd_flag',\n",
       " 'RatecodeID',\n",
       " 'PULocationID',\n",
       " 'DOLocationID',\n",
       " 'passenger_count',\n",
       " 'trip_distance',\n",
       " 'fare_amount',\n",
       " 'extra',\n",
       " 'mta_tax',\n",
       " 'tip_amount',\n",
       " 'tolls_amount',\n",
       " 'ehail_fee',\n",
       " 'improvement_surcharge',\n",
       " 'total_amount',\n",
       " 'payment_type',\n",
       " 'trip_type',\n",
       " 'congestion_surcharge']"
      ]
     },
     "execution_count": 6,
     "metadata": {},
     "output_type": "execute_result"
    }
   ],
   "source": [
    "# get the columns and combine them\n",
    "df_green.columns"
   ]
  },
  {
   "cell_type": "code",
   "execution_count": 11,
   "id": "7d17399a-00bc-4ffa-8a88-92e89cfa796f",
   "metadata": {},
   "outputs": [],
   "source": [
    "df_green = df_green \\\n",
    "    .withColumnRenamed('lpep_pickup_datetime','pickup_datetime') \\\n",
    "    .withColumnRenamed('lpep_dropoff_datetime','dropoff_datetime')"
   ]
  },
  {
   "cell_type": "code",
   "execution_count": 12,
   "id": "2390ee0f-70a0-4898-9997-c86f36370412",
   "metadata": {},
   "outputs": [],
   "source": [
    "df_yellow = df_yellow \\\n",
    "    .withColumnRenamed('tpep_pickup_datetime','pickup_datetime') \\\n",
    "    .withColumnRenamed('tpep_dropoff_datetime','dropoff_datetime')"
   ]
  },
  {
   "cell_type": "code",
   "execution_count": 14,
   "id": "2f6f8f5c-8537-424d-a02b-6f7cfb219dbb",
   "metadata": {
    "tags": []
   },
   "outputs": [],
   "source": [
    "yellow_column = df_yellow.columns"
   ]
  },
  {
   "cell_type": "code",
   "execution_count": 15,
   "id": "e38c07c7-0e22-4f31-b400-e50bb6d743bf",
   "metadata": {},
   "outputs": [],
   "source": [
    "green_column = df_green.columns"
   ]
  },
  {
   "cell_type": "code",
   "execution_count": 13,
   "id": "26599bb3-0616-4dca-97d8-c068e6b0bef8",
   "metadata": {},
   "outputs": [
    {
     "data": {
      "text/plain": [
       "{'DOLocationID',\n",
       " 'PULocationID',\n",
       " 'RatecodeID',\n",
       " 'VendorID',\n",
       " 'congestion_surcharge',\n",
       " 'dropoff_datetime',\n",
       " 'extra',\n",
       " 'fare_amount',\n",
       " 'improvement_surcharge',\n",
       " 'mta_tax',\n",
       " 'passenger_count',\n",
       " 'payment_type',\n",
       " 'pickup_datetime',\n",
       " 'store_and_fwd_flag',\n",
       " 'tip_amount',\n",
       " 'tolls_amount',\n",
       " 'total_amount',\n",
       " 'trip_distance'}"
      ]
     },
     "execution_count": 13,
     "metadata": {},
     "output_type": "execute_result"
    }
   ],
   "source": [
    "set(df_green.columns) & set(df_yellow.columns)"
   ]
  },
  {
   "cell_type": "code",
   "execution_count": 16,
   "id": "175bcf70-e36f-4017-b3db-3dac655f8d06",
   "metadata": {},
   "outputs": [],
   "source": [
    "common_columns = []\n",
    "\n",
    "for col in green_column:\n",
    "    if col in yellow_column:\n",
    "        common_columns.append(col)\n",
    "    else:\n",
    "        pass"
   ]
  },
  {
   "cell_type": "code",
   "execution_count": 17,
   "id": "aaa172f2-1532-434f-99bc-e114d7545732",
   "metadata": {},
   "outputs": [
    {
     "data": {
      "text/plain": [
       "['VendorID',\n",
       " 'pickup_datetime',\n",
       " 'dropoff_datetime',\n",
       " 'store_and_fwd_flag',\n",
       " 'RatecodeID',\n",
       " 'PULocationID',\n",
       " 'DOLocationID',\n",
       " 'passenger_count',\n",
       " 'trip_distance',\n",
       " 'fare_amount',\n",
       " 'extra',\n",
       " 'mta_tax',\n",
       " 'tip_amount',\n",
       " 'tolls_amount',\n",
       " 'improvement_surcharge',\n",
       " 'total_amount',\n",
       " 'payment_type',\n",
       " 'congestion_surcharge']"
      ]
     },
     "execution_count": 17,
     "metadata": {},
     "output_type": "execute_result"
    }
   ],
   "source": [
    "common_columns"
   ]
  },
  {
   "cell_type": "code",
   "execution_count": 19,
   "id": "53d31a0f-88c3-4f26-a8f3-bf0986da97e7",
   "metadata": {},
   "outputs": [],
   "source": [
    "from pyspark.sql import functions as F"
   ]
  },
  {
   "cell_type": "code",
   "execution_count": 28,
   "id": "ee8e2237-59c4-478a-a7cd-a39cacfff047",
   "metadata": {},
   "outputs": [],
   "source": [
    "df_green_sel = df_green.select(common_columns).withColumn('service_type',F.lit('green'))"
   ]
  },
  {
   "cell_type": "code",
   "execution_count": 29,
   "id": "4999772a-8a6b-41bc-b9fa-edbef70a96c6",
   "metadata": {},
   "outputs": [],
   "source": [
    "df_yellow_sel = df_yellow.select(common_columns).withColumn('service_type',F.lit('yellow'))"
   ]
  },
  {
   "cell_type": "code",
   "execution_count": 27,
   "id": "e949a75e-7022-4dae-a97e-99b9243050f4",
   "metadata": {
    "collapsed": true,
    "jupyter": {
     "outputs_hidden": true
    },
    "tags": []
   },
   "outputs": [
    {
     "name": "stdout",
     "output_type": "stream",
     "text": [
      "Help on function lit in module pyspark.sql.functions:\n",
      "\n",
      "lit(col: Any) -> pyspark.sql.column.Column\n",
      "    Creates a :class:`~pyspark.sql.Column` of literal value.\n",
      "    \n",
      "    .. versionadded:: 1.3.0\n",
      "    \n",
      "    Examples\n",
      "    --------\n",
      "    >>> df.select(lit(5).alias('height')).withColumn('spark_user', lit(True)).take(1)\n",
      "    [Row(height=5, spark_user=True)]\n",
      "\n"
     ]
    }
   ],
   "source": [
    "help(F.lit)"
   ]
  },
  {
   "cell_type": "code",
   "execution_count": 30,
   "id": "78ab4b3c-cc2c-4227-ba41-b75ed553a542",
   "metadata": {},
   "outputs": [],
   "source": [
    "df_trips_data = df_green_sel.unionAll(df_yellow_sel)"
   ]
  },
  {
   "cell_type": "code",
   "execution_count": 34,
   "id": "8d281d3a-c8fa-4cd3-b97a-78005323f0ab",
   "metadata": {},
   "outputs": [
    {
     "name": "stderr",
     "output_type": "stream",
     "text": [
      "/home/idowuilekura/spark/spark-3.3.2-bin-hadoop3/python/pyspark/sql/dataframe.py:229: FutureWarning: Deprecated in 2.0, use createOrReplaceTempView instead.\n",
      "  warnings.warn(\"Deprecated in 2.0, use createOrReplaceTempView instead.\", FutureWarning)\n"
     ]
    }
   ],
   "source": [
    "df_trips_data.registerTempTable('trips_data')"
   ]
  },
  {
   "cell_type": "code",
   "execution_count": 35,
   "id": "9b400892-0272-4c97-a3e7-35b663f2efdf",
   "metadata": {},
   "outputs": [],
   "source": [
    "df_trips_data.createOrReplaceTempView('trips_data')"
   ]
  },
  {
   "cell_type": "code",
   "execution_count": 33,
   "id": "daa7fad9-9b5e-4a21-8330-97734942a0ab",
   "metadata": {
    "collapsed": true,
    "jupyter": {
     "outputs_hidden": true
    },
    "tags": []
   },
   "outputs": [
    {
     "name": "stderr",
     "output_type": "stream",
     "text": [
      "[Stage 4:=======================================>                 (14 + 6) / 20]\r"
     ]
    },
    {
     "name": "stdout",
     "output_type": "stream",
     "text": [
      "+------------+--------+\n",
      "|service_type|   count|\n",
      "+------------+--------+\n",
      "|       green| 2304517|\n",
      "|      yellow|39649199|\n",
      "+------------+--------+\n",
      "\n"
     ]
    },
    {
     "name": "stderr",
     "output_type": "stream",
     "text": [
      "                                                                                \r"
     ]
    }
   ],
   "source": [
    "df_trips_data.groupBy('service_type').count().show()"
   ]
  },
  {
   "cell_type": "code",
   "execution_count": 38,
   "id": "ac009f03-46c2-4eaf-9e66-7762e7604b2c",
   "metadata": {
    "collapsed": true,
    "jupyter": {
     "outputs_hidden": true
    },
    "tags": []
   },
   "outputs": [
    {
     "name": "stderr",
     "output_type": "stream",
     "text": [
      "[Stage 10:===============================================>        (17 + 3) / 20]\r"
     ]
    },
    {
     "name": "stdout",
     "output_type": "stream",
     "text": [
      "+------------+--------+\n",
      "|service_type|count(1)|\n",
      "+------------+--------+\n",
      "|       green| 2304517|\n",
      "|      yellow|39649199|\n",
      "+------------+--------+\n",
      "\n"
     ]
    },
    {
     "name": "stderr",
     "output_type": "stream",
     "text": [
      "                                                                                \r"
     ]
    }
   ],
   "source": [
    "spark_session.sql(\"\"\"\n",
    "SELECT service_type,\n",
    "count(1)\n",
    "FROM \n",
    "trips_data \n",
    "GROUP BY 1;\n",
    "\"\"\").show()"
   ]
  },
  {
   "cell_type": "code",
   "execution_count": 43,
   "id": "b08bb702-c715-4e24-b067-b1e78139fa77",
   "metadata": {},
   "outputs": [],
   "source": [
    "df_result = spark_session.sql(\"\"\"\n",
    " SELECT \n",
    "    -- Reveneue grouping \n",
    "    PULocationID as revenue_zone,\n",
    "    date_trunc('month', pickup_datetime) as revenue_month, \n",
    "\n",
    "    service_type, \n",
    "\n",
    "    -- Revenue calculation \n",
    "    sum(fare_amount) as revenue_monthly_fare,\n",
    "    sum(extra) as revenue_monthly_extra,\n",
    "    sum(mta_tax) as revenue_monthly_mta_tax,\n",
    "    sum(tip_amount) as revenue_monthly_tip_amount,\n",
    "    sum(tolls_amount) as revenue_monthly_tolls_amount,\n",
    "    sum(improvement_surcharge) as revenue_monthly_improvement_surcharge,\n",
    "    sum(total_amount) as revenue_monthly_total_amount,\n",
    "    sum(congestion_surcharge) as revenue_monthly_congestion_surcharge,\n",
    "\n",
    "    -- Additional calculations\n",
    "    avg(passenger_count) as avg_montly_passenger_count,\n",
    "    avg(trip_distance) as avg_montly_trip_distance\n",
    "\n",
    "    FROM trips_data\n",
    "    GROUP BY \n",
    "        1,2,3;\n",
    "\"\"\")"
   ]
  },
  {
   "cell_type": "code",
   "execution_count": 44,
   "id": "fb5fed47-2a1c-48bb-9d9e-f4682cda781e",
   "metadata": {
    "collapsed": true,
    "jupyter": {
     "outputs_hidden": true
    },
    "tags": []
   },
   "outputs": [
    {
     "name": "stderr",
     "output_type": "stream",
     "text": [
      "[Stage 13:=====================================================>  (19 + 1) / 20]\r"
     ]
    },
    {
     "name": "stdout",
     "output_type": "stream",
     "text": [
      "+------------+-------------------+------------+--------------------+---------------------+-----------------------+--------------------------+----------------------------+-------------------------------------+----------------------------+------------------------------------+--------------------------+------------------------+\n",
      "|revenue_zone|      revenue_month|service_type|revenue_monthly_fare|revenue_monthly_extra|revenue_monthly_mta_tax|revenue_monthly_tip_amount|revenue_monthly_tolls_amount|revenue_monthly_improvement_surcharge|revenue_monthly_total_amount|revenue_monthly_congestion_surcharge|avg_montly_passenger_count|avg_montly_trip_distance|\n",
      "+------------+-------------------+------------+--------------------+---------------------+-----------------------+--------------------------+----------------------------+-------------------------------------+----------------------------+------------------------------------+--------------------------+------------------------+\n",
      "|         127|2020-02-01 00:00:00|       green|  21571.680000000008|               890.75|                  495.0|                   1050.52|           488.8000000000003|                   345.00000000000523|           25119.14999999976|                               264.0|        1.1945837512537614|                    null|\n",
      "|           9|2020-02-01 00:00:00|       green|   7251.640000000001|               643.25|                   25.0|         7.720000000000001|          183.20000000000005|                    77.99999999999976|           8193.509999999998|                                2.75|        1.1219512195121952|                    null|\n",
      "|           6|2020-02-01 00:00:00|       green|                46.5|                  0.0|                    0.5|                       0.0|                       18.36|                                  0.3|                       68.41|                                2.75|                       1.0|                    null|\n",
      "|          47|2020-01-01 00:00:00|       green|  16630.150000000027|               1192.0|                  160.0|        42.230000000000004|           523.0000000000002|                   210.90000000000228|           18770.42999999991|                                11.0|         1.177685950413223|                    null|\n",
      "|         180|2020-02-01 00:00:00|       green|             2817.15|                178.0|                   15.0|                     12.52|                       37.47|                    30.00000000000004|          3090.1400000000003|                                 0.0|        1.0606060606060606|                    null|\n",
      "|          53|2020-01-01 00:00:00|       green|   6281.649999999996|               330.25|                   49.0|                     39.22|          102.50000000000001|                    68.39999999999971|           6873.770000000004|                                2.75|        1.2417582417582418|                    null|\n",
      "|         128|2020-01-01 00:00:00|       green|  3261.3300000000013|                158.0|                   35.5|                     82.25|          104.04000000000002|                    34.50000000000003|          3714.0200000000027|                                27.5|        1.0169491525423728|                    null|\n",
      "|         263|2020-01-01 00:00:00|       green|   8987.339999999991|                561.0|                 124.55|        315.27000000000015|           335.0600000000002|                   127.19999999999915|                    10684.17|                              239.25|        1.4293478260869565|                    null|\n",
      "|         150|2020-01-01 00:00:00|       green|   9996.160000000002|                627.5|                   98.0|                     97.87|                      149.14|                   109.49999999999932|           11082.06999999998|                                 0.0|        1.1147540983606556|                    null|\n",
      "|          19|2020-01-01 00:00:00|       green|   7798.879999999997|                377.0|                   42.0|                      6.66|          174.40000000000003|                    67.49999999999972|           8466.440000000004|                                 0.0|                  1.046875|                    null|\n",
      "|          81|2020-02-01 00:00:00|       green|   17340.13000000001|               1127.5|                  110.5|                     20.75|           991.5900000000004|                   149.39999999999918|           19743.76999999998|                                 0.0|        1.2653061224489797|                    null|\n",
      "|          22|2020-02-01 00:00:00|       green|  17398.530000000028|               1148.5|                   99.5|         74.39999999999999|          478.57000000000016|                    164.9999999999995|          19367.249999999975|                                2.75|        1.1590909090909092|                    null|\n",
      "|          40|2020-02-01 00:00:00|       green|  21840.030000000002|                896.5|                  831.0|        3179.4300000000026|           397.8000000000002|                    517.8000000000098|          28638.259999999762|                              967.75|        1.2492456246228123|                    null|\n",
      "|          37|2020-02-01 00:00:00|       green|  23375.710000000057|              1982.75|                  229.0|        428.94999999999993|           527.5100000000002|                    284.1000000000033|           26942.41999999996|                              104.25|        1.2318059299191375|                    null|\n",
      "|         186|2020-01-01 00:00:00|       green|  1539.2299999999998|                85.25|                    6.0|                       0.0|           97.92000000000002|                   13.800000000000011|                      1742.2|                                 0.0|        1.6666666666666667|                    null|\n",
      "|          71|2020-02-01 00:00:00|       green|  26571.900000000125|               2603.5|                  195.0|                     30.23|           465.5400000000003|                   308.40000000000396|          30183.969999999892|                                 5.5|                    1.1875|                    null|\n",
      "|         216|2020-02-01 00:00:00|       green|   19758.42000000002|               1245.0|                  110.0|        102.96000000000001|           424.2500000000003|                   195.30000000000052|           21843.37999999994|                                 5.5|        1.1793893129770991|                    null|\n",
      "|          38|2020-02-01 00:00:00|       green|    8637.03999999999|               605.75|                   34.0|                       5.0|          165.24000000000004|                    77.39999999999979|           9526.380000000001|                                 0.0|        1.2173913043478262|                    null|\n",
      "|          95|2020-03-01 00:00:00|       green|   75784.66999999995|              2378.75|                 2877.0|        6567.2899999999945|           1171.179999999998|                    1875.599999999807|           91141.79000000608|                              450.75|        1.3517110266159695|                    null|\n",
      "|         238|2020-01-01 00:00:00|       green|  5397.9900000000025|                403.5|                   20.0|                       0.0|          124.68000000000004|                   61.199999999999775|           6007.370000000004|                                 0.0|                       1.2|                    null|\n",
      "+------------+-------------------+------------+--------------------+---------------------+-----------------------+--------------------------+----------------------------+-------------------------------------+----------------------------+------------------------------------+--------------------------+------------------------+\n",
      "only showing top 20 rows\n",
      "\n"
     ]
    },
    {
     "name": "stderr",
     "output_type": "stream",
     "text": [
      "                                                                                \r"
     ]
    }
   ],
   "source": [
    "df_result.show()"
   ]
  },
  {
   "cell_type": "code",
   "execution_count": 47,
   "id": "8e3e3ece-d7fe-4ee7-aef6-e538392b2f74",
   "metadata": {},
   "outputs": [
    {
     "name": "stderr",
     "output_type": "stream",
     "text": [
      "                                                                                \r"
     ]
    }
   ],
   "source": [
    "df_result.write.mode('overwrite').parquet('data/report/revenue/')"
   ]
  },
  {
   "cell_type": "code",
   "execution_count": 56,
   "id": "548fea1e-4619-43db-a6ee-9701c274aa63",
   "metadata": {},
   "outputs": [],
   "source": [
    "df_green.createOrReplaceTempView('green_trip_data')"
   ]
  },
  {
   "cell_type": "code",
   "execution_count": 98,
   "id": "3cb3c07d-f54f-4c9f-9d8b-d15a0eaea792",
   "metadata": {},
   "outputs": [],
   "source": [
    "df_green_revenue = spark_session.sql(\"\"\"\n",
    " SELECT \n",
    "    -- Reveneue grouping \n",
    "   \n",
    "    date_trunc('hour', pickup_datetime) as hour,\n",
    "     PULocationID as revenue_zone,\n",
    "\n",
    "    -- Revenue calculation \n",
    "    sum(total_amount) as amount,\n",
    "    COUNT(1) AS number_records\n",
    "    FROM green_trip_data\n",
    "    WHERE pickup_datetime >= '2020-01-01 00:00'\n",
    "    GROUP BY \n",
    "        1,2\n",
    "\"\"\"\n",
    "    \n",
    ")"
   ]
  },
  {
   "cell_type": "code",
   "execution_count": 102,
   "id": "011b6e5a-45a0-4e9a-9ef3-1fccf02b28a7",
   "metadata": {},
   "outputs": [
    {
     "name": "stderr",
     "output_type": "stream",
     "text": [
      "[Stage 77:===========================================>              (6 + 2) / 8]\r"
     ]
    },
    {
     "name": "stdout",
     "output_type": "stream",
     "text": [
      "23/03/02 01:34:33 WARN MemoryManager: Total allocation exceeds 95.00% (1,020,054,720 bytes) of heap memory\n",
      "Scaling row group sizes to 95.00% for 8 writers\n"
     ]
    },
    {
     "name": "stderr",
     "output_type": "stream",
     "text": [
      "                                                                                \r"
     ]
    }
   ],
   "source": [
    "df_green_revenue.write.parquet('data/report/revenue/green',mode='overwrite')"
   ]
  },
  {
   "cell_type": "code",
   "execution_count": 72,
   "id": "d3ff8749-bc29-4d9b-8c0f-9adb91b191cd",
   "metadata": {},
   "outputs": [],
   "source": [
    "df_yellow.createOrReplaceTempView('yellow_trip_data')"
   ]
  },
  {
   "cell_type": "code",
   "execution_count": 100,
   "id": "4c9b534b-4643-48c1-9add-7810bcfb8617",
   "metadata": {},
   "outputs": [],
   "source": [
    "df_yellow_revenue = spark_session.sql(\"\"\"\n",
    " SELECT \n",
    "    -- Reveneue grouping \n",
    "   \n",
    "    date_trunc('hour', pickup_datetime) as hour,\n",
    "     PULocationID as revenue_zone,\n",
    "\n",
    "    -- Revenue calculation \n",
    "    sum(total_amount) as amount,\n",
    "    COUNT(1) AS number_records\n",
    "    FROM yellow_trip_data\n",
    "    WHERE pickup_datetime >= '2020-01-01 00:00'\n",
    "    GROUP BY \n",
    "        1,2\n",
    "\"\"\"\n",
    "    \n",
    ")\n"
   ]
  },
  {
   "cell_type": "code",
   "execution_count": 101,
   "id": "31547f2d-ea46-4086-a3d1-5d02229567c9",
   "metadata": {},
   "outputs": [
    {
     "name": "stderr",
     "output_type": "stream",
     "text": [
      "[Stage 74:===================================================>    (11 + 1) / 12]\r"
     ]
    },
    {
     "name": "stdout",
     "output_type": "stream",
     "text": [
      "23/03/02 01:33:15 WARN MemoryManager: Total allocation exceeds 95.00% (1,020,054,720 bytes) of heap memory\n",
      "Scaling row group sizes to 95.00% for 8 writers\n"
     ]
    },
    {
     "name": "stderr",
     "output_type": "stream",
     "text": [
      "                                                                                \r"
     ]
    }
   ],
   "source": [
    "df_yellow_revenue.write.parquet('data/report/revenue/yellow',mode='overwrite')"
   ]
  },
  {
   "cell_type": "code",
   "execution_count": 103,
   "id": "c2c296db-7c76-4777-9f93-2c95ce3888e3",
   "metadata": {},
   "outputs": [],
   "source": [
    "df_green_revenue = spark_session.read.parquet('data/report/revenue/green')\n",
    "df_yellow_revenue = spark_session.read.parquet('data/report/revenue/yellow')"
   ]
  },
  {
   "cell_type": "code",
   "execution_count": 104,
   "id": "69c6cf37-368d-477b-9a3a-f6a332b1ce96",
   "metadata": {},
   "outputs": [],
   "source": [
    "df_green_revenue_tmp = df_green_revenue \\\n",
    "    .withColumnRenamed('amount', 'green_amount') \\\n",
    "    .withColumnRenamed('number_records', 'green_number_records')"
   ]
  },
  {
   "cell_type": "code",
   "execution_count": 105,
   "id": "ac75a1d0-2c87-4ca9-92a7-02616f182e66",
   "metadata": {},
   "outputs": [],
   "source": [
    "df_yellow_revenue_tmp = df_yellow_revenue \\\n",
    "    .withColumnRenamed('amount', 'yellow_amount') \\\n",
    "    .withColumnRenamed('number_records', 'yellow_number_records')"
   ]
  },
  {
   "cell_type": "code",
   "execution_count": 106,
   "id": "023e013b-0383-4502-9df3-89eac6337683",
   "metadata": {},
   "outputs": [],
   "source": [
    "df_join = df_green_revenue_tmp.join(df_yellow_revenue_tmp, on =['hour','revenue_zone'], how = 'outer')"
   ]
  },
  {
   "cell_type": "code",
   "execution_count": 107,
   "id": "5175ffd5-3689-4bb5-95e0-5e484aa6bfed",
   "metadata": {
    "collapsed": true,
    "jupyter": {
     "outputs_hidden": true
    },
    "tags": []
   },
   "outputs": [
    {
     "name": "stdout",
     "output_type": "stream",
     "text": [
      "23/03/02 01:35:12 WARN MemoryManager: Total allocation exceeds 95.00% (1,020,054,720 bytes) of heap memory\n",
      "Scaling row group sizes to 95.00% for 8 writers\n"
     ]
    },
    {
     "name": "stderr",
     "output_type": "stream",
     "text": [
      "                                                                                \r"
     ]
    }
   ],
   "source": [
    "df_join.write.parquet('data/report/revenue/total',mode='overwrite')"
   ]
  },
  {
   "cell_type": "code",
   "execution_count": 108,
   "id": "1f99e197-dca6-4094-b16c-1d19c721ce1e",
   "metadata": {},
   "outputs": [],
   "source": [
    "df_join = spark_session.read.parquet('data/report/revenue/total')"
   ]
  },
  {
   "cell_type": "code",
   "execution_count": 109,
   "id": "6f994105-5fd5-4310-b220-1646daacd910",
   "metadata": {},
   "outputs": [],
   "source": [
    "df_zones = spark_session.read.parquet('zones/')"
   ]
  },
  {
   "cell_type": "code",
   "execution_count": 110,
   "id": "e85f43b4-e129-4edd-bf7a-2c2ebc242d50",
   "metadata": {},
   "outputs": [
    {
     "name": "stdout",
     "output_type": "stream",
     "text": [
      "+----------+-------------+--------------------+------------+\n",
      "|LocationID|      Borough|                Zone|service_zone|\n",
      "+----------+-------------+--------------------+------------+\n",
      "|         1|          EWR|      Newark Airport|         EWR|\n",
      "|         2|       Queens|         Jamaica Bay|   Boro Zone|\n",
      "|         3|        Bronx|Allerton/Pelham G...|   Boro Zone|\n",
      "|         4|    Manhattan|       Alphabet City| Yellow Zone|\n",
      "|         5|Staten Island|       Arden Heights|   Boro Zone|\n",
      "|         6|Staten Island|Arrochar/Fort Wad...|   Boro Zone|\n",
      "|         7|       Queens|             Astoria|   Boro Zone|\n",
      "|         8|       Queens|        Astoria Park|   Boro Zone|\n",
      "|         9|       Queens|          Auburndale|   Boro Zone|\n",
      "|        10|       Queens|        Baisley Park|   Boro Zone|\n",
      "|        11|     Brooklyn|          Bath Beach|   Boro Zone|\n",
      "|        12|    Manhattan|        Battery Park| Yellow Zone|\n",
      "|        13|    Manhattan|   Battery Park City| Yellow Zone|\n",
      "|        14|     Brooklyn|           Bay Ridge|   Boro Zone|\n",
      "|        15|       Queens|Bay Terrace/Fort ...|   Boro Zone|\n",
      "|        16|       Queens|             Bayside|   Boro Zone|\n",
      "|        17|     Brooklyn|             Bedford|   Boro Zone|\n",
      "|        18|        Bronx|        Bedford Park|   Boro Zone|\n",
      "|        19|       Queens|           Bellerose|   Boro Zone|\n",
      "|        20|        Bronx|             Belmont|   Boro Zone|\n",
      "+----------+-------------+--------------------+------------+\n",
      "only showing top 20 rows\n",
      "\n"
     ]
    }
   ],
   "source": [
    "df_zones.show()"
   ]
  },
  {
   "cell_type": "code",
   "execution_count": 116,
   "id": "7cea4e45-65b2-4947-89b9-1bd6b2355f7c",
   "metadata": {},
   "outputs": [],
   "source": [
    "df_result = df_join.join(df_zones, df_join.revenue_zone == df_zones.LocationID)"
   ]
  },
  {
   "cell_type": "code",
   "execution_count": 117,
   "id": "01c9776e-8b4b-4df8-bd43-1daec8ff8cc3",
   "metadata": {},
   "outputs": [
    {
     "name": "stdout",
     "output_type": "stream",
     "text": [
      "23/03/02 01:47:09 WARN MemoryManager: Total allocation exceeds 95.00% (1,020,054,720 bytes) of heap memory\n",
      "Scaling row group sizes to 95.00% for 8 writers\n"
     ]
    },
    {
     "name": "stderr",
     "output_type": "stream",
     "text": [
      "                                                                                \r"
     ]
    }
   ],
   "source": [
    "df_result.drop('LocationID').write.parquet('tmp/revenue-zones')"
   ]
  },
  {
   "cell_type": "code",
   "execution_count": null,
   "id": "f83e3672-191c-4911-843f-eb3d2c3c1e33",
   "metadata": {},
   "outputs": [],
   "source": []
  }
 ],
 "metadata": {
  "kernelspec": {
   "display_name": "Python 3 (ipykernel)",
   "language": "python",
   "name": "python3"
  },
  "language_info": {
   "codemirror_mode": {
    "name": "ipython",
    "version": 3
   },
   "file_extension": ".py",
   "mimetype": "text/x-python",
   "name": "python",
   "nbconvert_exporter": "python",
   "pygments_lexer": "ipython3",
   "version": "3.9.13"
  }
 },
 "nbformat": 4,
 "nbformat_minor": 5
}
