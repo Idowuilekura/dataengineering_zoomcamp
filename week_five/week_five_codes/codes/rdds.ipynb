{
 "cells": [
  {
   "cell_type": "code",
   "execution_count": 2,
   "id": "3f53729e-533b-4b5f-ad11-4c0b0ad108ee",
   "metadata": {},
   "outputs": [],
   "source": [
    "import pyspark\n",
    "\n",
    "import findspark\n",
    "\n",
    "findspark.init()"
   ]
  },
  {
   "cell_type": "code",
   "execution_count": 3,
   "id": "c9e85cb4-2e18-4732-a80a-e07022e55d87",
   "metadata": {},
   "outputs": [
    {
     "name": "stdout",
     "output_type": "stream",
     "text": [
      "23/03/02 17:54:37 WARN Utils: Your hostname, idowu-pc resolves to a loopback address: 127.0.1.1; using 192.168.0.115 instead (on interface wlo1)\n",
      "23/03/02 17:54:37 WARN Utils: Set SPARK_LOCAL_IP if you need to bind to another address\n"
     ]
    },
    {
     "name": "stderr",
     "output_type": "stream",
     "text": [
      "Setting default log level to \"WARN\".\n",
      "To adjust logging level use sc.setLogLevel(newLevel). For SparkR, use setLogLevel(newLevel).\n"
     ]
    },
    {
     "name": "stdout",
     "output_type": "stream",
     "text": [
      "23/03/02 17:54:37 WARN NativeCodeLoader: Unable to load native-hadoop library for your platform... using builtin-java classes where applicable\n"
     ]
    }
   ],
   "source": [
    "import pyspark\n",
    "from pyspark.sql import SparkSession\n",
    "\n",
    "spark_session = SparkSession.builder.master(\"local[*]\").appName('rdds').getOrCreate()"
   ]
  },
  {
   "cell_type": "code",
   "execution_count": 4,
   "id": "81cacd95-900a-4c31-9918-fd3745a41cb8",
   "metadata": {},
   "outputs": [
    {
     "name": "stderr",
     "output_type": "stream",
     "text": [
      "                                                                                \r"
     ]
    }
   ],
   "source": [
    "df_green = spark_session.read.parquet(\"data/pq/green/*/*\")"
   ]
  },
  {
   "cell_type": "markdown",
   "id": "8a76a685-451b-47af-8a1d-86f308124d9a",
   "metadata": {},
   "source": [
    "```\n",
    " SELECT \n",
    "    -- Reveneue grouping \n",
    "   \n",
    "    date_trunc('hour', pickup_datetime) as hour,\n",
    "     PULocationID as revenue_zone,\n",
    "\n",
    "    -- Revenue calculation \n",
    "    sum(total_amount) as amount,\n",
    "    COUNT(1) AS number_records\n",
    "    FROM green_trip_data\n",
    "    WHERE pickup_datetime >= '2020-01-01 00:00'\n",
    "    GROUP BY \n",
    "        1,2\n",
    "```"
   ]
  },
  {
   "cell_type": "code",
   "execution_count": 5,
   "id": "f9f43656-7052-41d5-abc9-7bcf7e707086",
   "metadata": {
    "collapsed": true,
    "jupyter": {
     "outputs_hidden": true
    },
    "tags": []
   },
   "outputs": [
    {
     "name": "stdout",
     "output_type": "stream",
     "text": [
      "+--------+--------------------+---------------------+------------------+----------+------------+------------+---------------+-------------+-----------+-----+-------+----------+------------+---------+---------------------+------------+------------+---------+--------------------+\n",
      "|VendorID|lpep_pickup_datetime|lpep_dropoff_datetime|store_and_fwd_flag|RatecodeID|PULocationID|DOLocationID|passenger_count|trip_distance|fare_amount|extra|mta_tax|tip_amount|tolls_amount|ehail_fee|improvement_surcharge|total_amount|payment_type|trip_type|congestion_surcharge|\n",
      "+--------+--------------------+---------------------+------------------+----------+------------+------------+---------------+-------------+-----------+-----+-------+----------+------------+---------+---------------------+------------+------------+---------+--------------------+\n",
      "|       1| 2020-01-24 22:00:56|  2020-01-24 22:06:12|                 N|         1|          95|         196|              1|         null|        6.0|  0.5|    0.5|       0.0|         0.0|     null|                  0.3|         7.3|           2|        1|                 0.0|\n",
      "|    null| 2020-01-16 14:46:00|  2020-01-16 15:01:00|              null|      null|         130|          10|           null|         null|      21.57| 2.75|    0.0|       0.0|         0.0|     null|                  0.3|       24.62|        null|     null|                null|\n",
      "|       2| 2020-01-13 07:58:32|  2020-01-13 08:26:00|                 N|         1|         166|         142|              1|         null|       18.0|  0.0|    0.5|       0.0|         0.0|     null|                  0.3|       21.55|           2|        1|                2.75|\n",
      "|    null| 2020-01-09 12:57:00|  2020-01-09 13:13:00|              null|      null|          97|         256|           null|         null|       9.44|  0.0|    0.0|       0.0|         0.0|     null|                  0.3|        9.74|        null|     null|                null|\n",
      "|       1| 2020-01-08 13:45:35|  2020-01-08 13:50:37|                 N|         1|         116|         116|              2|         null|        5.0|  0.0|    0.5|       0.0|         0.0|     null|                  0.3|         5.8|           2|        1|                 0.0|\n",
      "|       2| 2020-01-05 11:25:46|  2020-01-05 11:32:13|                 N|         1|          25|          52|              1|         null|        7.0|  0.0|    0.5|      1.56|         0.0|     null|                  0.3|        9.36|           1|        1|                 0.0|\n",
      "|       1| 2020-01-24 08:38:07|  2020-01-24 08:45:33|                 N|         1|          42|          74|              1|         null|        7.0|  0.0|    0.5|       2.0|         0.0|     null|                  0.3|         9.8|           1|        1|                 0.0|\n",
      "|    null| 2020-01-26 11:26:00|  2020-01-26 11:26:00|              null|      null|          41|          41|           null|         null|      14.65| 2.75|    0.0|       0.0|         0.0|     null|                  0.3|        17.7|        null|     null|                null|\n",
      "|       2| 2020-01-16 09:46:53|  2020-01-17 09:39:53|                 N|         1|         226|         157|              1|         null|       20.0|  0.0|    0.5|       0.0|         0.0|     null|                  0.3|        20.8|           2|        1|                 0.0|\n",
      "|       2| 2020-01-28 18:37:13|  2020-01-28 18:52:42|                 N|         1|          97|         228|              1|         null|       12.0|  1.0|    0.5|       2.5|         0.0|     null|                  0.3|        16.3|           1|        1|                 0.0|\n",
      "|       2| 2020-01-13 14:23:49|  2020-01-13 14:30:11|                 N|         1|           7|         146|              1|         null|        6.0|  0.0|    0.5|       0.0|         0.0|     null|                  0.3|         6.8|           2|        1|                 0.0|\n",
      "|    null| 2020-01-12 12:08:00|  2020-01-12 12:21:00|              null|      null|          91|          85|           null|         null|      17.74| 2.75|    0.5|       0.0|         0.0|     null|                  0.0|       20.99|        null|     null|                null|\n",
      "|    null| 2020-01-04 09:57:00|  2020-01-04 10:14:00|              null|      null|          39|          39|           null|         null|      14.93| 2.75|    0.5|       0.0|         0.0|     null|                  0.3|       18.48|        null|     null|                null|\n",
      "|       2| 2020-01-05 01:13:49|  2020-01-05 01:22:46|                 N|         1|         169|          78|              1|         null|        8.0|  0.5|    0.5|      1.86|         0.0|     null|                  0.3|       13.11|           1|        1|                 0.0|\n",
      "|       2| 2020-01-31 12:35:00|  2020-01-31 12:55:24|                 N|         1|          66|          97|              3|         null|       15.0|  0.0|    0.5|      3.16|         0.0|     null|                  0.3|       18.96|           1|        1|                 0.0|\n",
      "|       2| 2020-01-25 01:30:57|  2020-01-25 01:36:06|                 N|         1|         255|         112|              1|         null|        6.0|  0.5|    0.5|       2.0|         0.0|     null|                  0.3|         9.3|           1|        1|                 0.0|\n",
      "|       2| 2020-01-21 09:50:39|  2020-01-21 09:56:33|                 N|         1|          33|          66|              1|         null|        5.5|  0.0|    0.5|      1.26|         0.0|     null|                  0.3|        7.56|           1|        1|                 0.0|\n",
      "|       2| 2020-01-13 22:29:22|  2020-01-13 22:39:07|                 N|         1|         244|          42|              2|         null|        9.5|  0.5|    0.5|       0.0|         0.0|     null|                  0.3|        10.8|           2|        1|                 0.0|\n",
      "|       2| 2020-01-02 06:55:53|  2020-01-02 06:58:23|                 N|         1|          42|          42|              1|         null|        4.0|  0.0|    0.5|       0.0|         0.0|     null|                  0.3|         4.8|           2|        1|                 0.0|\n",
      "|       2| 2020-01-08 17:20:25|  2020-01-08 17:23:23|                 N|         1|          41|          41|              1|         null|        4.0|  1.0|    0.5|       0.0|         0.0|     null|                  0.3|         5.8|           2|        1|                 0.0|\n",
      "+--------+--------------------+---------------------+------------------+----------+------------+------------+---------------+-------------+-----------+-----+-------+----------+------------+---------+---------------------+------------+------------+---------+--------------------+\n",
      "only showing top 20 rows\n",
      "\n"
     ]
    },
    {
     "name": "stderr",
     "output_type": "stream",
     "text": [
      "                                                                                \r"
     ]
    }
   ],
   "source": [
    "df_green.show()"
   ]
  },
  {
   "cell_type": "code",
   "execution_count": 31,
   "id": "96f2dd55-80a1-4b40-928f-94b25456f8b6",
   "metadata": {
    "tags": []
   },
   "outputs": [],
   "source": [
    "green_rdd = df_green \\\n",
    "    .select('lpep_pickup_datetime','total_amount','PULocationID')\\\n",
    "    .rdd"
   ]
  },
  {
   "cell_type": "code",
   "execution_count": 14,
   "id": "f7718338-99bb-4652-afdb-490d7f5c328f",
   "metadata": {},
   "outputs": [],
   "source": [
    "from datetime import datetime"
   ]
  },
  {
   "cell_type": "code",
   "execution_count": 17,
   "id": "9a30d5bb-f4f7-411a-97de-b1559e1cb97f",
   "metadata": {},
   "outputs": [],
   "source": [
    "start = datetime(year=2021, month=1, day=1)"
   ]
  },
  {
   "cell_type": "code",
   "execution_count": 19,
   "id": "6bbba3c7-3a61-4a0e-bc59-e457d804b78d",
   "metadata": {},
   "outputs": [],
   "source": [
    "def filter_outliers(row):\n",
    "    return row.lpep_pickup_datetime >= start"
   ]
  },
  {
   "cell_type": "code",
   "execution_count": 21,
   "id": "a3349d6f-64e2-4d13-b6bf-d3aac1dfbda7",
   "metadata": {},
   "outputs": [],
   "source": [
    "rows = green_rdd.take(10)\n",
    "row = rows[0]"
   ]
  },
  {
   "cell_type": "code",
   "execution_count": 30,
   "id": "60a578ba-25e3-4aa2-9ce6-6531787dc9f2",
   "metadata": {},
   "outputs": [
    {
     "data": {
      "text/plain": [
       "Row(lpep_pickup_datetime=datetime.datetime(2020, 1, 24, 22, 0, 56), total_amount=7.3)"
      ]
     },
     "execution_count": 30,
     "metadata": {},
     "output_type": "execute_result"
    }
   ],
   "source": [
    "row"
   ]
  },
  {
   "cell_type": "code",
   "execution_count": 34,
   "id": "0c8331d0-0648-4041-9851-c528ba94ea7c",
   "metadata": {},
   "outputs": [],
   "source": [
    "def prepare_for_grouping(row):\n",
    "    hour = row.lpep_pickup_datetime.replace(minute=0, second=0, microsecond=0)\n",
    "    zone = row.PULocationID\n",
    "    key = (hour, zone)\n",
    "    amount = row.total_amount\n",
    "    count = 1\n",
    "    value = (amount, count)\n",
    "    \n",
    "    return (key, value)"
   ]
  },
  {
   "cell_type": "code",
   "execution_count": 37,
   "id": "6ebb04a6-adfa-4e06-8ca3-6665376217b4",
   "metadata": {},
   "outputs": [],
   "source": [
    "def calculate_revenue(left_value, right_value):\n",
    "    left_amount, left_count = left_value\n",
    "    right_amount, right_count = right_value\n",
    "    \n",
    "    output_amount = left_amount + right_amount\n",
    "    output_count = left_count + right_count\n",
    "    output_value = (output_amount, output_count)\n",
    "    \n",
    "    return (output_amount, output_count)"
   ]
  },
  {
   "cell_type": "code",
   "execution_count": 52,
   "id": "5afcc278-437d-4b66-9f78-91f65de65a7e",
   "metadata": {},
   "outputs": [],
   "source": [
    "from collections import namedtuple"
   ]
  },
  {
   "cell_type": "code",
   "execution_count": 53,
   "id": "26b0c25b-9337-4580-8ce1-40f1e9e2872f",
   "metadata": {},
   "outputs": [],
   "source": [
    "RevenueRow = namedtuple('RevenueRow', ['hour','zone','revenue','count'])"
   ]
  },
  {
   "cell_type": "code",
   "execution_count": 59,
   "id": "76cb69dd-79e9-4aec-a92f-24b930c3b48c",
   "metadata": {},
   "outputs": [],
   "source": [
    "result_schema = types.StructType([\n",
    "    types.StructField('hour', types.TimestampType(), True), \n",
    "    types.StructField('zone', types.IntegerType(), True), \n",
    "    types.StructField('revenue', types.DoubleType(), True), \n",
    "    types.StructField('count', types.IntegerType(), True)])"
   ]
  },
  {
   "cell_type": "code",
   "execution_count": 54,
   "id": "934f82d1-02a8-449f-95a0-678e3af7d7dc",
   "metadata": {},
   "outputs": [],
   "source": [
    "def unwrap(row):\n",
    "    return RevenueRow(\n",
    "        hour=row[0][0], \n",
    "        zone=row[0][1], \n",
    "        revenue=row[1][0], \n",
    "        count=row[1][1])"
   ]
  },
  {
   "cell_type": "code",
   "execution_count": 60,
   "id": "38bdb5ff-f50b-4469-9318-19dcd638da73",
   "metadata": {
    "tags": []
   },
   "outputs": [],
   "source": [
    "df_result = green_rdd \\\n",
    "          .filter(lambda row: filter_outliers) \\\n",
    "          .map(prepare_for_grouping) \\\n",
    "          .reduceByKey(calculate_revenue) \\\n",
    "          .map(unwrap) \\\n",
    "          .toDF(result_schema)"
   ]
  },
  {
   "cell_type": "code",
   "execution_count": 63,
   "id": "41525e68-2be2-4c94-abb0-7fc626fec64a",
   "metadata": {},
   "outputs": [
    {
     "name": "stderr",
     "output_type": "stream",
     "text": [
      "[Stage 32:>                                                         (0 + 8) / 8]\r"
     ]
    },
    {
     "name": "stdout",
     "output_type": "stream",
     "text": [
      "23/03/02 20:55:28 WARN MemoryManager: Total allocation exceeds 95.00% (1,020,054,720 bytes) of heap memory\n",
      "Scaling row group sizes to 95.00% for 8 writers\n"
     ]
    },
    {
     "name": "stderr",
     "output_type": "stream",
     "text": [
      "                                                                                \r"
     ]
    }
   ],
   "source": [
    "df_result.write.parquet('data/tmp/green-revenue')"
   ]
  },
  {
   "cell_type": "code",
   "execution_count": null,
   "id": "f8713022-0cd1-45b2-8035-94e8edeae01f",
   "metadata": {},
   "outputs": [],
   "source": []
  },
  {
   "cell_type": "code",
   "execution_count": 58,
   "id": "d3526112-531c-4b55-a732-b91e0ee66928",
   "metadata": {},
   "outputs": [],
   "source": [
    "from pyspark.sql import types"
   ]
  },
  {
   "cell_type": "code",
   "execution_count": 7,
   "id": "bb80ab9a-5bc6-4564-8c42-d459dee2dc3f",
   "metadata": {},
   "outputs": [
    {
     "data": {
      "text/plain": [
       "[Row(VendorID=1, lpep_pickup_datetime=datetime.datetime(2020, 1, 24, 22, 0, 56), lpep_dropoff_datetime=datetime.datetime(2020, 1, 24, 22, 6, 12), store_and_fwd_flag='N', RatecodeID=1, PULocationID=95, DOLocationID=196, passenger_count=1, trip_distance=None, fare_amount=6.0, extra=0.5, mta_tax=0.5, tip_amount=0.0, tolls_amount=0.0, ehail_fee=None, improvement_surcharge=0.3, total_amount=7.3, payment_type=2, trip_type=1, congestion_surcharge=0.0),\n",
       " Row(VendorID=None, lpep_pickup_datetime=datetime.datetime(2020, 1, 16, 14, 46), lpep_dropoff_datetime=datetime.datetime(2020, 1, 16, 15, 1), store_and_fwd_flag=None, RatecodeID=None, PULocationID=130, DOLocationID=10, passenger_count=None, trip_distance=None, fare_amount=21.57, extra=2.75, mta_tax=0.0, tip_amount=0.0, tolls_amount=0.0, ehail_fee=None, improvement_surcharge=0.3, total_amount=24.62, payment_type=None, trip_type=None, congestion_surcharge=None),\n",
       " Row(VendorID=2, lpep_pickup_datetime=datetime.datetime(2020, 1, 13, 7, 58, 32), lpep_dropoff_datetime=datetime.datetime(2020, 1, 13, 8, 26), store_and_fwd_flag='N', RatecodeID=1, PULocationID=166, DOLocationID=142, passenger_count=1, trip_distance=None, fare_amount=18.0, extra=0.0, mta_tax=0.5, tip_amount=0.0, tolls_amount=0.0, ehail_fee=None, improvement_surcharge=0.3, total_amount=21.55, payment_type=2, trip_type=1, congestion_surcharge=2.75),\n",
       " Row(VendorID=None, lpep_pickup_datetime=datetime.datetime(2020, 1, 9, 12, 57), lpep_dropoff_datetime=datetime.datetime(2020, 1, 9, 13, 13), store_and_fwd_flag=None, RatecodeID=None, PULocationID=97, DOLocationID=256, passenger_count=None, trip_distance=None, fare_amount=9.44, extra=0.0, mta_tax=0.0, tip_amount=0.0, tolls_amount=0.0, ehail_fee=None, improvement_surcharge=0.3, total_amount=9.74, payment_type=None, trip_type=None, congestion_surcharge=None),\n",
       " Row(VendorID=1, lpep_pickup_datetime=datetime.datetime(2020, 1, 8, 13, 45, 35), lpep_dropoff_datetime=datetime.datetime(2020, 1, 8, 13, 50, 37), store_and_fwd_flag='N', RatecodeID=1, PULocationID=116, DOLocationID=116, passenger_count=2, trip_distance=None, fare_amount=5.0, extra=0.0, mta_tax=0.5, tip_amount=0.0, tolls_amount=0.0, ehail_fee=None, improvement_surcharge=0.3, total_amount=5.8, payment_type=2, trip_type=1, congestion_surcharge=0.0)]"
      ]
     },
     "execution_count": 7,
     "metadata": {},
     "output_type": "execute_result"
    }
   ],
   "source": [
    "df_green.take(5)"
   ]
  },
  {
   "cell_type": "markdown",
   "id": "83f65ffc-2b71-40f5-968b-3ec895161514",
   "metadata": {},
   "source": [
    "Spark MapPartition"
   ]
  },
  {
   "cell_type": "code",
   "execution_count": 64,
   "id": "0c6e3d69-3627-48e1-9a5e-1ae15c86aae6",
   "metadata": {},
   "outputs": [],
   "source": [
    "columns = ['VendorID', 'lpep_pickup_datetime', 'PULocationID', 'DOLocationID','trip_distance']"
   ]
  },
  {
   "cell_type": "code",
   "execution_count": 66,
   "id": "58b0fbbf-f917-4fcf-84e7-daef4c124cce",
   "metadata": {},
   "outputs": [],
   "source": [
    "duration_rdd = df_green.select(columns).rdd"
   ]
  },
  {
   "cell_type": "code",
   "execution_count": 101,
   "id": "0d937c8e-dc18-481e-a027-9f34c9b3afbc",
   "metadata": {},
   "outputs": [
    {
     "data": {
      "text/plain": [
       "StructType([StructField('VendorID', IntegerType(), True), StructField('lpep_pickup_datetime', TimestampType(), True), StructField('PULocationID', IntegerType(), True), StructField('DOLocationID', IntegerType(), True), StructField('trip_distance', IntegerType(), True)])"
      ]
     },
     "execution_count": 101,
     "metadata": {},
     "output_type": "execute_result"
    }
   ],
   "source": [
    "df_green.select(columns).schema"
   ]
  },
  {
   "cell_type": "code",
   "execution_count": 76,
   "id": "d929d7e6-8719-44d5-aded-6c1a12755cc1",
   "metadata": {},
   "outputs": [],
   "source": [
    "import pandas as pd"
   ]
  },
  {
   "cell_type": "code",
   "execution_count": 77,
   "id": "147c259a-2d8c-4aa4-9503-0ceb5f882467",
   "metadata": {},
   "outputs": [],
   "source": [
    "rows = duration_rdd.take(10)"
   ]
  },
  {
   "cell_type": "code",
   "execution_count": 79,
   "id": "16820ad9-6672-46d0-8960-cf5ce158aa20",
   "metadata": {},
   "outputs": [
    {
     "data": {
      "text/html": [
       "<div>\n",
       "<style scoped>\n",
       "    .dataframe tbody tr th:only-of-type {\n",
       "        vertical-align: middle;\n",
       "    }\n",
       "\n",
       "    .dataframe tbody tr th {\n",
       "        vertical-align: top;\n",
       "    }\n",
       "\n",
       "    .dataframe thead th {\n",
       "        text-align: right;\n",
       "    }\n",
       "</style>\n",
       "<table border=\"1\" class=\"dataframe\">\n",
       "  <thead>\n",
       "    <tr style=\"text-align: right;\">\n",
       "      <th></th>\n",
       "      <th>VendorID</th>\n",
       "      <th>lpep_pickup_datetime</th>\n",
       "      <th>PULocationID</th>\n",
       "      <th>DOLocationID</th>\n",
       "      <th>trip_distance</th>\n",
       "    </tr>\n",
       "  </thead>\n",
       "  <tbody>\n",
       "    <tr>\n",
       "      <th>0</th>\n",
       "      <td>1.0</td>\n",
       "      <td>2020-01-24 22:00:56</td>\n",
       "      <td>95</td>\n",
       "      <td>196</td>\n",
       "      <td>None</td>\n",
       "    </tr>\n",
       "    <tr>\n",
       "      <th>1</th>\n",
       "      <td>NaN</td>\n",
       "      <td>2020-01-16 14:46:00</td>\n",
       "      <td>130</td>\n",
       "      <td>10</td>\n",
       "      <td>None</td>\n",
       "    </tr>\n",
       "    <tr>\n",
       "      <th>2</th>\n",
       "      <td>2.0</td>\n",
       "      <td>2020-01-13 07:58:32</td>\n",
       "      <td>166</td>\n",
       "      <td>142</td>\n",
       "      <td>None</td>\n",
       "    </tr>\n",
       "    <tr>\n",
       "      <th>3</th>\n",
       "      <td>NaN</td>\n",
       "      <td>2020-01-09 12:57:00</td>\n",
       "      <td>97</td>\n",
       "      <td>256</td>\n",
       "      <td>None</td>\n",
       "    </tr>\n",
       "    <tr>\n",
       "      <th>4</th>\n",
       "      <td>1.0</td>\n",
       "      <td>2020-01-08 13:45:35</td>\n",
       "      <td>116</td>\n",
       "      <td>116</td>\n",
       "      <td>None</td>\n",
       "    </tr>\n",
       "    <tr>\n",
       "      <th>5</th>\n",
       "      <td>2.0</td>\n",
       "      <td>2020-01-05 11:25:46</td>\n",
       "      <td>25</td>\n",
       "      <td>52</td>\n",
       "      <td>None</td>\n",
       "    </tr>\n",
       "    <tr>\n",
       "      <th>6</th>\n",
       "      <td>1.0</td>\n",
       "      <td>2020-01-24 08:38:07</td>\n",
       "      <td>42</td>\n",
       "      <td>74</td>\n",
       "      <td>None</td>\n",
       "    </tr>\n",
       "    <tr>\n",
       "      <th>7</th>\n",
       "      <td>NaN</td>\n",
       "      <td>2020-01-26 11:26:00</td>\n",
       "      <td>41</td>\n",
       "      <td>41</td>\n",
       "      <td>None</td>\n",
       "    </tr>\n",
       "    <tr>\n",
       "      <th>8</th>\n",
       "      <td>2.0</td>\n",
       "      <td>2020-01-16 09:46:53</td>\n",
       "      <td>226</td>\n",
       "      <td>157</td>\n",
       "      <td>None</td>\n",
       "    </tr>\n",
       "    <tr>\n",
       "      <th>9</th>\n",
       "      <td>2.0</td>\n",
       "      <td>2020-01-28 18:37:13</td>\n",
       "      <td>97</td>\n",
       "      <td>228</td>\n",
       "      <td>None</td>\n",
       "    </tr>\n",
       "  </tbody>\n",
       "</table>\n",
       "</div>"
      ],
      "text/plain": [
       "   VendorID lpep_pickup_datetime  PULocationID  DOLocationID trip_distance\n",
       "0       1.0  2020-01-24 22:00:56            95           196          None\n",
       "1       NaN  2020-01-16 14:46:00           130            10          None\n",
       "2       2.0  2020-01-13 07:58:32           166           142          None\n",
       "3       NaN  2020-01-09 12:57:00            97           256          None\n",
       "4       1.0  2020-01-08 13:45:35           116           116          None\n",
       "5       2.0  2020-01-05 11:25:46            25            52          None\n",
       "6       1.0  2020-01-24 08:38:07            42            74          None\n",
       "7       NaN  2020-01-26 11:26:00            41            41          None\n",
       "8       2.0  2020-01-16 09:46:53           226           157          None\n",
       "9       2.0  2020-01-28 18:37:13            97           228          None"
      ]
     },
     "execution_count": 79,
     "metadata": {},
     "output_type": "execute_result"
    }
   ],
   "source": [
    "pd.DataFrame(rows, columns=columns)"
   ]
  },
  {
   "cell_type": "code",
   "execution_count": 86,
   "id": "e7fe2500-c961-4346-b665-0f78e07fab0e",
   "metadata": {},
   "outputs": [],
   "source": [
    "def model_predict(df):\n",
    "    y_pred = df.trip_distance * 5\n",
    "    return y_pred"
   ]
  },
  {
   "cell_type": "code",
   "execution_count": 130,
   "id": "03525f12-8c42-48d6-b00e-b7f3ce6538b3",
   "metadata": {},
   "outputs": [],
   "source": [
    "def apply_model_in_batch(partition):\n",
    "    df = pd.DataFrame(partition, columns= columns)\n",
    "    predictions = model_predict(df)\n",
    "    df['predicted_duration'] = predictions\n",
    "    \n",
    "    for row in df.itertuples(index=False):\n",
    "        yield row"
   ]
  },
  {
   "cell_type": "code",
   "execution_count": 134,
   "id": "9d7e3bcf-b2e0-419f-95f1-692f346e2945",
   "metadata": {},
   "outputs": [],
   "source": [
    "schem_model = types.StructType([\n",
    "                            types.StructField('VendorID', types.DoubleType(), True), \n",
    "                          types.StructField('lpep_pickup_datetime', types.TimestampType(), True), \n",
    "                          types.StructField('PULocationID', types.IntegerType(), True), types.StructField('DOLocationID', types.IntegerType(), True),\n",
    "                          types.StructField('trip_distance', types.DoubleType(), True),\n",
    "                          types.StructField('predicted_duration',types.DoubleType(), True)])"
   ]
  },
  {
   "cell_type": "code",
   "execution_count": 136,
   "id": "a5ea64d2-5c89-46e0-a3cb-a1c28ca1ea25",
   "metadata": {},
   "outputs": [
    {
     "name": "stderr",
     "output_type": "stream",
     "text": [
      "                                                                                \r"
     ]
    },
    {
     "data": {
      "text/plain": [
       "[Pandas(VendorID=1.0, lpep_pickup_datetime=Timestamp('2020-01-24 22:00:56'), PULocationID=95, DOLocationID=196, trip_distance=None, predicted_duration=nan),\n",
       " Pandas(VendorID=nan, lpep_pickup_datetime=Timestamp('2020-01-16 14:46:00'), PULocationID=130, DOLocationID=10, trip_distance=None, predicted_duration=nan),\n",
       " Pandas(VendorID=2.0, lpep_pickup_datetime=Timestamp('2020-01-13 07:58:32'), PULocationID=166, DOLocationID=142, trip_distance=None, predicted_duration=nan),\n",
       " Pandas(VendorID=nan, lpep_pickup_datetime=Timestamp('2020-01-09 12:57:00'), PULocationID=97, DOLocationID=256, trip_distance=None, predicted_duration=nan),\n",
       " Pandas(VendorID=1.0, lpep_pickup_datetime=Timestamp('2020-01-08 13:45:35'), PULocationID=116, DOLocationID=116, trip_distance=None, predicted_duration=nan)]"
      ]
     },
     "execution_count": 136,
     "metadata": {},
     "output_type": "execute_result"
    }
   ],
   "source": [
    "duration_rdd.mapPartitions(apply_model_in_batch).take(5)"
   ]
  },
  {
   "cell_type": "code",
   "execution_count": null,
   "id": "929a837c-1af7-4f71-a75d-52b7f9dcc553",
   "metadata": {},
   "outputs": [],
   "source": []
  },
  {
   "cell_type": "code",
   "execution_count": 67,
   "id": "f8300d2b-a858-4df7-b318-f8374f71e153",
   "metadata": {},
   "outputs": [
    {
     "data": {
      "text/plain": [
       "[Row(VendorID=1, lpep_pickup_datetime=datetime.datetime(2020, 1, 24, 22, 0, 56), PULocationID=95, DOLocationID=196, trip_distance=None),\n",
       " Row(VendorID=None, lpep_pickup_datetime=datetime.datetime(2020, 1, 16, 14, 46), PULocationID=130, DOLocationID=10, trip_distance=None),\n",
       " Row(VendorID=2, lpep_pickup_datetime=datetime.datetime(2020, 1, 13, 7, 58, 32), PULocationID=166, DOLocationID=142, trip_distance=None),\n",
       " Row(VendorID=None, lpep_pickup_datetime=datetime.datetime(2020, 1, 9, 12, 57), PULocationID=97, DOLocationID=256, trip_distance=None),\n",
       " Row(VendorID=1, lpep_pickup_datetime=datetime.datetime(2020, 1, 8, 13, 45, 35), PULocationID=116, DOLocationID=116, trip_distance=None)]"
      ]
     },
     "execution_count": 67,
     "metadata": {},
     "output_type": "execute_result"
    }
   ],
   "source": [
    "duration_rdd.take(5)"
   ]
  }
 ],
 "metadata": {
  "kernelspec": {
   "display_name": "Python 3 (ipykernel)",
   "language": "python",
   "name": "python3"
  },
  "language_info": {
   "codemirror_mode": {
    "name": "ipython",
    "version": 3
   },
   "file_extension": ".py",
   "mimetype": "text/x-python",
   "name": "python",
   "nbconvert_exporter": "python",
   "pygments_lexer": "ipython3",
   "version": "3.9.13"
  }
 },
 "nbformat": 4,
 "nbformat_minor": 5
}
